{
 "cells": [
  {
   "cell_type": "markdown",
   "id": "013ea53d",
   "metadata": {},
   "source": [
    "## Comandos BASH"
   ]
  },
  {
   "cell_type": "markdown",
   "id": "5168de86",
   "metadata": {},
   "source": [
    "### Navegación y exploración de archivos"
   ]
  },
  {
   "cell_type": "markdown",
   "id": "1e764dfa",
   "metadata": {},
   "source": [
    "Listar archivos y directorios"
   ]
  },
  {
   "cell_type": "code",
   "execution_count": null,
   "id": "7d1d3e8f",
   "metadata": {},
   "outputs": [],
   "source": [
    "ls"
   ]
  },
  {
   "cell_type": "markdown",
   "id": "3abdc158",
   "metadata": {},
   "source": [
    "Cambiar de directorio"
   ]
  },
  {
   "cell_type": "code",
   "execution_count": null,
   "id": "2d33cd16",
   "metadata": {},
   "outputs": [],
   "source": [
    "cd"
   ]
  },
  {
   "cell_type": "markdown",
   "id": "bc3e03d4",
   "metadata": {},
   "source": [
    "Mostrar ruta del directorio actual"
   ]
  },
  {
   "cell_type": "code",
   "execution_count": null,
   "id": "bc99c2ba",
   "metadata": {},
   "outputs": [],
   "source": [
    "pwd"
   ]
  },
  {
   "cell_type": "markdown",
   "id": "ed4f2281",
   "metadata": {},
   "source": [
    "Crear nuevo directorio"
   ]
  },
  {
   "cell_type": "code",
   "execution_count": null,
   "id": "f920fea0",
   "metadata": {},
   "outputs": [],
   "source": [
    "mkdir nuevo_directorio"
   ]
  },
  {
   "cell_type": "markdown",
   "id": "5beb5a70",
   "metadata": {},
   "source": [
    "Copiar archivos o directorios"
   ]
  },
  {
   "cell_type": "code",
   "execution_count": null,
   "id": "7bd100e8",
   "metadata": {},
   "outputs": [],
   "source": [
    "cp ruta_origen ruta_destino"
   ]
  },
  {
   "cell_type": "markdown",
   "id": "32c8917a",
   "metadata": {},
   "source": [
    "Mover o renombrar archivos o directorios"
   ]
  },
  {
   "cell_type": "code",
   "execution_count": null,
   "id": "972112af",
   "metadata": {},
   "outputs": [],
   "source": [
    "mv ruta_origen ruta_destino"
   ]
  },
  {
   "cell_type": "markdown",
   "id": "e1a155f2",
   "metadata": {},
   "source": [
    "Eliminar archivos o directorios"
   ]
  },
  {
   "cell_type": "code",
   "execution_count": null,
   "id": "090e9f1d",
   "metadata": {},
   "outputs": [],
   "source": [
    "rm archivo"
   ]
  },
  {
   "cell_type": "markdown",
   "id": "20553779",
   "metadata": {},
   "source": [
    "Cambiar permisos de archivos"
   ]
  },
  {
   "cell_type": "code",
   "execution_count": null,
   "id": "6a782333",
   "metadata": {},
   "outputs": [],
   "source": [
    "chmod <permisos> archivo"
   ]
  },
  {
   "cell_type": "markdown",
   "id": "7726b30d",
   "metadata": {},
   "source": [
    "Cambiar el propietario de un archivo"
   ]
  },
  {
   "cell_type": "code",
   "execution_count": null,
   "id": "7da655dd",
   "metadata": {},
   "outputs": [],
   "source": [
    "chown"
   ]
  },
  {
   "cell_type": "markdown",
   "id": "c826100d",
   "metadata": {},
   "source": [
    "Crear un archivo"
   ]
  },
  {
   "cell_type": "code",
   "execution_count": null,
   "id": "ec410cc7",
   "metadata": {},
   "outputs": [],
   "source": [
    "touch nombre_archivo"
   ]
  },
  {
   "cell_type": "markdown",
   "id": "1fb2f0d0",
   "metadata": {},
   "source": [
    "Muestra el contenido de un archivo"
   ]
  },
  {
   "cell_type": "code",
   "execution_count": null,
   "id": "269de5d4",
   "metadata": {},
   "outputs": [],
   "source": [
    "cat"
   ]
  },
  {
   "cell_type": "markdown",
   "id": "a6705af2",
   "metadata": {},
   "source": [
    "### Manipulación de archivos de texto"
   ]
  },
  {
   "cell_type": "markdown",
   "id": "269dfda9",
   "metadata": {},
   "source": [
    "Mostrar el contenido de un archivo"
   ]
  },
  {
   "cell_type": "code",
   "execution_count": null,
   "id": "b57ec374",
   "metadata": {},
   "outputs": [],
   "source": [
    "cat archivo"
   ]
  },
  {
   "cell_type": "markdown",
   "id": "9bb11708",
   "metadata": {},
   "source": [
    "Editar archivos de texto en nano"
   ]
  },
  {
   "cell_type": "code",
   "execution_count": null,
   "id": "42b52f68",
   "metadata": {},
   "outputs": [],
   "source": [
    "nano archivo"
   ]
  },
  {
   "cell_type": "markdown",
   "id": "e15006c2",
   "metadata": {},
   "source": [
    "Editar archivos de texto en vim"
   ]
  },
  {
   "cell_type": "code",
   "execution_count": null,
   "id": "021b8673",
   "metadata": {},
   "outputs": [],
   "source": [
    "vim archivo"
   ]
  },
  {
   "cell_type": "markdown",
   "id": "bf2a2618",
   "metadata": {},
   "source": [
    "Editar archivos de texto en emacs"
   ]
  },
  {
   "cell_type": "code",
   "execution_count": null,
   "id": "037e6a34",
   "metadata": {},
   "outputs": [],
   "source": [
    "emacs archivo"
   ]
  },
  {
   "cell_type": "markdown",
   "id": "368eb002",
   "metadata": {},
   "source": [
    "Mostrar las primeras líneas de un archivo"
   ]
  },
  {
   "cell_type": "code",
   "execution_count": null,
   "id": "07508acf",
   "metadata": {},
   "outputs": [],
   "source": [
    "head archivo"
   ]
  },
  {
   "cell_type": "markdown",
   "id": "7526b8a2",
   "metadata": {},
   "source": [
    "Mostrar las últimas líneas de un archivo"
   ]
  },
  {
   "cell_type": "code",
   "execution_count": null,
   "id": "47e037ba",
   "metadata": {},
   "outputs": [],
   "source": [
    "tail archivo"
   ]
  },
  {
   "cell_type": "markdown",
   "id": "fb686711",
   "metadata": {},
   "source": [
    "Mostrar las primeras 50 líneas de un archivo"
   ]
  },
  {
   "cell_type": "code",
   "execution_count": null,
   "id": "37b56047",
   "metadata": {},
   "outputs": [],
   "source": [
    "head -n 50 archivo"
   ]
  },
  {
   "cell_type": "markdown",
   "id": "e9e9ec33",
   "metadata": {},
   "source": [
    "Buscar patrones en un archivo"
   ]
  },
  {
   "cell_type": "code",
   "execution_count": null,
   "id": "1f98d116",
   "metadata": {},
   "outputs": [],
   "source": [
    "grep patron archivo"
   ]
  },
  {
   "cell_type": "markdown",
   "id": "d3e27818",
   "metadata": {},
   "source": [
    "Editar y transformar texto"
   ]
  },
  {
   "cell_type": "code",
   "execution_count": null,
   "id": "23033d6b",
   "metadata": {},
   "outputs": [],
   "source": [
    "sed 's/old/new/'archivo"
   ]
  },
  {
   "cell_type": "markdown",
   "id": "723081b0",
   "metadata": {},
   "source": [
    "Procesar y analizar texto (Scanning)"
   ]
  },
  {
   "cell_type": "code",
   "execution_count": null,
   "id": "60e70e40",
   "metadata": {},
   "outputs": [],
   "source": [
    "awk '{print $1}' archivo"
   ]
  }
 ],
 "metadata": {
  "kernelspec": {
   "display_name": "Python 3 (ipykernel)",
   "language": "python",
   "name": "python3"
  },
  "language_info": {
   "codemirror_mode": {
    "name": "ipython",
    "version": 3
   },
   "file_extension": ".py",
   "mimetype": "text/x-python",
   "name": "python",
   "nbconvert_exporter": "python",
   "pygments_lexer": "ipython3",
   "version": "3.11.5"
  }
 },
 "nbformat": 4,
 "nbformat_minor": 5
}
